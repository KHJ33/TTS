{
 "cells": [
  {
   "cell_type": "markdown",
   "id": "bcd117ea",
   "metadata": {},
   "source": [
    "## 1. 필수 라이브러리 및 함수 불러오기\n",
    "\n",
    "실행에 필요한 라이브러리 및 함수를 불러옵니다.\n",
    "\n",
    "이 과정은 약 10분 정도 소요될 수 있습니다."
   ]
  },
  {
   "cell_type": "code",
   "execution_count": 1,
   "id": "a060a939",
   "metadata": {},
   "outputs": [],
   "source": [
    "import sys\n",
    "from pathlib import Path"
   ]
  },
  {
   "cell_type": "markdown",
   "id": "5143c338",
   "metadata": {},
   "source": [
    "### 1.1 해당 명령어는 terminal 에서 진행\n",
    "\n",
    "    Desktop(바탕화면) 에 새로운 디렉토리 생성 후 진행\n",
    "\n",
    "* cd Desktop/tts_test\n",
    "* git clone --depth 1 https://github.com/sce-tts/TTS.git -b sce-tts\n",
    "* pip3 install -r ./TTS/requirements.txt\n",
    "* cd TTS\n",
    "* python setup.py develop\n",
    "* * *"
   ]
  },
  {
   "cell_type": "markdown",
   "id": "dfba9d52",
   "metadata": {},
   "source": [
    "## 2. 학습할 데이터셋 불러오기\n",
    "\n",
    "    학습에 사용할 음성 데이터를 data 폴더 내에서 가져 옵니다.\n",
    "    현재 나의 경로는 TTS 폴더 내입니다.\n",
    "\n",
    "* cp ../data/filelists.zip ./filelists.zip\n",
    "* rm -rf ./filelists\n",
    "* unzip -q filelists.zip -d ./filelists\n",
    "* * *"
   ]
  },
  {
   "cell_type": "markdown",
   "id": "7218b5f2",
   "metadata": {},
   "source": [
    "## 3. 사전 학습 데이터 불러오기\n",
    "\n",
    "    사전 학습 데이터가 존재하지 않을 경우,  \n",
    "    SleepingCE Speech Dataset의 사전 학습 데이터를 내려받습니다.\n",
    "    현재 나의 경로는 TTS 폴더 내입니다.\n",
    "\n",
    "* mkdir -p ../glowtts-v2\n",
    "* gdown --id 1DMKLdfZ_gzc_z0qDod6_G8fEXj0zCHvC -O glowtts-v2.zip\n",
    "* unzip -q glowtts-v2.zip -d ./\n",
    "* cp -R ./glowtts-v2/* ../glowtts-v2/\n",
    "* * *"
   ]
  },
  {
   "cell_type": "markdown",
   "id": "814b9d1b",
   "metadata": {},
   "source": [
    "## 4. pip 환경 오류 수정\n",
    "* python TTS/bin/compute_statistics.py \"../glowtts-v2/config.json\" \"../glowtts-v2/scale_stats_new.npy\" --data_path \"./filelists/wavs/\"\n",
    "\n",
    "      Referenced from: /Users/kimhyunjo/opt/anaconda3/envs/tts_test/lib/python3.8/site-packages/_cffi_backend.cpython-38-darwin.so\n",
    "      Reason: image not found\n",
    "      \n",
    "      오류 문구가 나온 이유는 cffi 버전이 낮아서 이다. (현재 1.15.0 사용 중)\n",
    "      cffi 버전을 올리기 위해서 librosa(0.8.0) 올려야 한다.\n",
    "      \n",
    "* pip uninstall librosa\n",
    "* pip uninstall cffi\n",
    "* pip install librosa\n",
    "* pip install cffi"
   ]
  },
  {
   "cell_type": "markdown",
   "id": "30d7d775",
   "metadata": {},
   "source": [
    "### 4.1 참고\n",
    "\n",
    "* pip3 install scipy==1.7.1 numpy==1.18.5 scikit-learn==0.24.2\n",
    "* * *"
   ]
  },
  {
   "cell_type": "code",
   "execution_count": 1,
   "id": "abe7496e",
   "metadata": {},
   "outputs": [],
   "source": [
    "with open(\"../TTS/test_sentences.txt\", mode=\"w\") as f:\n",
    "    f.write(\"\"\"아래 문장들은 모델 학습을 위해 사용하지 않은 문장들입니다.\n",
    "서울특별시 특허허가과 허가과장 허과장.\n",
    "경찰청 철창살은 외철창살이고 검찰청 철창살은 쌍철창살이다.\n",
    "지향을 지양으로 오기하는 일을 지양하는 언어 습관을 지향해야 한다.\n",
    "그러니까 외계인이 우리 생각을 읽고 우리 생각을 우리가 다시 생각토록 해서 그 생각이 마치 우리가 생각한 것인 것처럼 속였다는 거냐?\"\"\")"
   ]
  }
 ],
 "metadata": {
  "kernelspec": {
   "display_name": "Python 3 (ipykernel)",
   "language": "python",
   "name": "python3"
  },
  "language_info": {
   "codemirror_mode": {
    "name": "ipython",
    "version": 3
   },
   "file_extension": ".py",
   "mimetype": "text/x-python",
   "name": "python",
   "nbconvert_exporter": "python",
   "pygments_lexer": "ipython3",
   "version": "3.8.0"
  }
 },
 "nbformat": 4,
 "nbformat_minor": 5
}
